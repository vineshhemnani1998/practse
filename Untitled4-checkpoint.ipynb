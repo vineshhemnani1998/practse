{
 "cells": [
  {
   "cell_type": "code",
   "execution_count": 5,
   "metadata": {},
   "outputs": [
    {
     "ename": "IndentationError",
     "evalue": "unexpected indent (<ipython-input-5-29c9ed9a76b4>, line 6)",
     "output_type": "error",
     "traceback": [
      "\u001b[1;36m  File \u001b[1;32m\"<ipython-input-5-29c9ed9a76b4>\"\u001b[1;36m, line \u001b[1;32m6\u001b[0m\n\u001b[1;33m    print (cal, 'answer')\u001b[0m\n\u001b[1;37m    ^\u001b[0m\n\u001b[1;31mIndentationError\u001b[0m\u001b[1;31m:\u001b[0m unexpected indent\n"
     ]
    }
   ],
   "source": [
    "cal1 = int(input('Enter First value'))\n",
    "cal2 = int(input('Enter second value'))\n",
    "operator = input('Enter operator')\n",
    "if operater == '+':\n",
    "      cal = cal1 + cal2\n",
    "        print (cal, 'answer')\n",
    "        elif operator == '-':\n",
    "            cal = cal1 - cal2\n",
    "            print (cal, 'answer')\n",
    "            elif operator == '*':\n",
    "                cal = cal1 * cal2\n",
    "                print (cal, 'answer')\n",
    "                elif operator == '/':\n",
    "                    cal = cal1 / cal2\n",
    "                    print (cal, 'answer')\n",
    "                    else:\n",
    "                        print(\"Enter correct operator\")"
   ]
  },
  {
   "cell_type": "code",
   "execution_count": null,
   "metadata": {},
   "outputs": [],
   "source": []
  },
  {
   "cell_type": "code",
   "execution_count": null,
   "metadata": {},
   "outputs": [],
   "source": []
  },
  {
   "cell_type": "code",
   "execution_count": null,
   "metadata": {},
   "outputs": [],
   "source": []
  },
  {
   "cell_type": "code",
   "execution_count": null,
   "metadata": {},
   "outputs": [],
   "source": []
  }
 ],
 "metadata": {
  "kernelspec": {
   "display_name": "Python 3",
   "language": "python",
   "name": "python3"
  },
  "language_info": {
   "codemirror_mode": {
    "name": "ipython",
    "version": 3
   },
   "file_extension": ".py",
   "mimetype": "text/x-python",
   "name": "python",
   "nbconvert_exporter": "python",
   "pygments_lexer": "ipython3",
   "version": "3.7.4"
  }
 },
 "nbformat": 4,
 "nbformat_minor": 2
}
