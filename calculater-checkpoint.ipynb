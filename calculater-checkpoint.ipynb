{
 "cells": [
  {
   "cell_type": "code",
   "execution_count": 22,
   "metadata": {},
   "outputs": [
    {
     "name": "stdout",
     "output_type": "stream",
     "text": [
      "Enter First value7\n",
      "Enter second value8\n",
      "Enter operator*\n",
      "56 answer\n"
     ]
    }
   ],
   "source": [
    "cal1 = int(input('Enter First value'))\n",
    "cal2 = int(input('Enter second value'))\n",
    "operator = input('Enter operator')\n",
    "\n",
    "if operator == '+':\n",
    "    cal = cal1 + cal2\n",
    "    print(cal, 'answer')\n",
    "elif operator == '-':\n",
    "    cal = cal1 - cal2\n",
    "    print(cal, 'answer')\n",
    "elif operator == '*':\n",
    "    cal = cal1 * cal2\n",
    "    print(cal, 'answer')\n",
    "elif operator == '/':\n",
    "    cal = cal1 / cal2\n",
    "    print(cal, 'answer')\n",
    "else:\n",
    "    print(\"Enter correct operator\")"
   ]
  },
  {
   "cell_type": "code",
   "execution_count": null,
   "metadata": {},
   "outputs": [],
   "source": []
  },
  {
   "cell_type": "code",
   "execution_count": null,
   "metadata": {},
   "outputs": [],
   "source": []
  },
  {
   "cell_type": "code",
   "execution_count": null,
   "metadata": {},
   "outputs": [],
   "source": []
  },
  {
   "cell_type": "code",
   "execution_count": null,
   "metadata": {},
   "outputs": [],
   "source": []
  }
 ],
 "metadata": {
  "kernelspec": {
   "display_name": "Python 3",
   "language": "python",
   "name": "python3"
  },
  "language_info": {
   "codemirror_mode": {
    "name": "ipython",
    "version": 3
   },
   "file_extension": ".py",
   "mimetype": "text/x-python",
   "name": "python",
   "nbconvert_exporter": "python",
   "pygments_lexer": "ipython3",
   "version": "3.7.4"
  }
 },
 "nbformat": 4,
 "nbformat_minor": 2
}
